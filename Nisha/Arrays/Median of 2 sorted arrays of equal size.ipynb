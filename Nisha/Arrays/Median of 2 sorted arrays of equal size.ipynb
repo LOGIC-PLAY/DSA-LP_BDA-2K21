{
 "cells": [
  {
   "cell_type": "code",
   "execution_count": null,
   "metadata": {},
   "outputs": [],
   "source": [
    "class Solution:\n",
    "    def find_median(self, v):\n",
    "        v.sort()\n",
    "        self.length=len(v)\n",
    "        if self.length%2==0:\n",
    "            return(int((v[int(len(v)/2)]+v[int(len(v)/2)-1])/2))\n",
    "        else:\n",
    "            return(v[int(len(v)/2)])\n",
    "        \n",
    "if __name__=='__main__':\n",
    "    T=int(input())\n",
    "    for i in range(T):\n",
    "        n=int(input())\n",
    "        v=list(map(int,input().split()))\n",
    "        ob=Solution();\n",
    "        ans=ob.find_median(v)\n",
    "        print(ans)"
   ]
  }
 ],
 "metadata": {
  "kernelspec": {
   "display_name": "Python 3",
   "language": "python",
   "name": "python3"
  },
  "language_info": {
   "codemirror_mode": {
    "name": "ipython",
    "version": 3
   },
   "file_extension": ".py",
   "mimetype": "text/x-python",
   "name": "python",
   "nbconvert_exporter": "python",
   "pygments_lexer": "ipython3",
   "version": "3.8.5"
  }
 },
 "nbformat": 4,
 "nbformat_minor": 4
}
